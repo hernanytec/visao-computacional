{
 "cells": [
  {
   "cell_type": "code",
   "execution_count": 1,
   "metadata": {},
   "outputs": [],
   "source": [
    "import cv2\n",
    "import matplotlib.pyplot as plt\n",
    "import sys\n",
    "\n",
    "haar_cascade_face = cv2.CascadeClassifier('haarcascade_frontalface_default.xml')\n",
    "\n",
    "\n",
    "cap = cv2.VideoCapture(0)\n",
    "alpha = 0\n",
    "naruto = cv2.imread('naruto.png')\n",
    "\n",
    "while(True):\n",
    "    try:\n",
    "        ret, frame = cap.read()\n",
    "        frame_gray =  cv2.cvtColor(frame, cv2.COLOR_BGR2GRAY)\n",
    "\n",
    "        faces_rects = haar_cascade_face.detectMultiScale(frame_gray, scaleFactor = 1.2, minNeighbors = 5);\n",
    "\n",
    "        for (x, y, w, h) in faces_rects:\n",
    "            #cv2.rectangle(frame, (x, y), (x+w, y+h), (0, 255, 0), 2)\n",
    "            \n",
    "            # crio um recorte do plano do frame onde vai ficar a máscara\n",
    "            roi = frame[0:y+int(h/3), x:x+w]\n",
    "            cv2.imshow('roi', roi)\n",
    "           \n",
    "            naruto_resize = cv2.resize(naruto, (roi.shape[1], roi.shape[0]))\n",
    "            \n",
    "            # crio a máscara e a inversa dela\n",
    "            naruto_gray = cv2.cvtColor(naruto_resize,cv2.COLOR_BGR2GRAY)\n",
    "            ret, mask = cv2.threshold(naruto_gray, 10, 255, cv2.THRESH_BINARY)\n",
    "            cv2.imshow('mask', mask)\n",
    "            \n",
    "            mask_inv = cv2.bitwise_not(mask)\n",
    "            cv2.imshow('mask_inv', mask_inv)\n",
    "            \n",
    "            # removo a área que vai receber a imagem da minha área de recorte\n",
    "            frame_bg = cv2.bitwise_and(roi,roi,mask = mask_inv)\n",
    "            cv2.imshow('frame_bg', frame_bg)\n",
    "            \n",
    "            # pego só a parte que importa da imagem (excuindo o fundo)\n",
    "            naruto_fg = cv2.bitwise_and(naruto_resize,naruto_resize,mask = mask)\n",
    "            cv2.imshow('naruto_fg', naruto_fg)\n",
    "\n",
    "            #coloco a imagem na aréa recortada e substituo na imagem original\n",
    "            dst = cv2.add(frame_bg,naruto_fg)\n",
    "            frame[0:y+int(h/3), x:x+w] = dst\n",
    "    \n",
    "        cv2.imshow('frame', frame)\n",
    "\n",
    "        if cv2.waitKey(1) & 0xFF == ord('q'):\n",
    "            break\n",
    "            \n",
    "    except Exception as e:\n",
    "        print(e)\n",
    "        break\n",
    "        \n",
    "cap.release()\n",
    "cv2.destroyAllWindows()"
   ]
  },
  {
   "cell_type": "code",
   "execution_count": null,
   "metadata": {},
   "outputs": [],
   "source": []
  }
 ],
 "metadata": {
  "kernelspec": {
   "display_name": "Python 3",
   "language": "python",
   "name": "python3"
  },
  "language_info": {
   "codemirror_mode": {
    "name": "ipython",
    "version": 3
   },
   "file_extension": ".py",
   "mimetype": "text/x-python",
   "name": "python",
   "nbconvert_exporter": "python",
   "pygments_lexer": "ipython3",
   "version": "3.7.3"
  }
 },
 "nbformat": 4,
 "nbformat_minor": 2
}
