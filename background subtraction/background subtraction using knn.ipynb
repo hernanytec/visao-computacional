{
 "cells": [
  {
   "cell_type": "code",
   "execution_count": 8,
   "metadata": {},
   "outputs": [],
   "source": [
    "import cv2\n",
    "import numpy as np\n",
    "\n",
    "cap = cv2.VideoCapture('video3.mp4')\n",
    "\n",
    "subtractor = cv2.createBackgroundSubtractorKNN()\n",
    "\n",
    "while(True):\n",
    "    try:\n",
    "        _, frame = cap.read()\n",
    "        cv2.imshow('original', frame)\n",
    "        \n",
    "        frame_gray = cv2.cvtColor(frame, cv2.COLOR_BGR2GRAY)\n",
    "        frame_gray = cv2.GaussianBlur(frame_gray, (5,5), 0)\n",
    "        \n",
    "        mask = subtractor.apply(frame)\n",
    "        mask = cv2.GaussianBlur(mask, (5,5), 0)\n",
    "        \n",
    "        _, mask = cv2.threshold(mask, 100, 255, cv2.THRESH_BINARY)\n",
    "        cv2.imshow('mask', mask)\n",
    "        \n",
    "        frame[:,:, 0] = cv2.bitwise_and(frame[:,:, 0], mask)\n",
    "        frame[:,:, 1] = cv2.bitwise_and(frame[:,:, 1], mask)\n",
    "        frame[:,:, 2] = cv2.bitwise_and(frame[:,:, 2], mask)\n",
    "        \n",
    "        cv2.imshow('foreground', frame)\n",
    "        \n",
    "        if cv2.waitKey(1) & 0xFF == ord('q'):\n",
    "            break\n",
    "            \n",
    "    except Exception as e:\n",
    "        print(e)\n",
    "        break\n",
    "        \n",
    "cap.release()\n",
    "cv2.destroyAllWindows()"
   ]
  },
  {
   "cell_type": "code",
   "execution_count": null,
   "metadata": {},
   "outputs": [],
   "source": []
  }
 ],
 "metadata": {
  "kernelspec": {
   "display_name": "Python 3",
   "language": "python",
   "name": "python3"
  },
  "language_info": {
   "codemirror_mode": {
    "name": "ipython",
    "version": 3
   },
   "file_extension": ".py",
   "mimetype": "text/x-python",
   "name": "python",
   "nbconvert_exporter": "python",
   "pygments_lexer": "ipython3",
   "version": "3.7.3"
  }
 },
 "nbformat": 4,
 "nbformat_minor": 2
}
