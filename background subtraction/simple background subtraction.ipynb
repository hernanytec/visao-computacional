{
 "cells": [
  {
   "cell_type": "code",
   "execution_count": 100,
   "metadata": {},
   "outputs": [],
   "source": [
    "import cv2\n",
    "import numpy as np\n",
    "cap = cv2.VideoCapture('video3.mp4')\n",
    "\n",
    "_, old_frame = cap.read()\n",
    "old_gray = cv2.cvtColor(old_frame, cv2.COLOR_BGR2GRAY)\n",
    "\n",
    "while(True):\n",
    "    try:\n",
    "        _, actual_frame = cap.read()\n",
    "        cv2.imshow('original', actual_frame)\n",
    "        actual_gray = cv2.cvtColor(actual_frame, cv2.COLOR_BGR2GRAY)\n",
    "        \n",
    "        actual_b, actual_g, actual_r = cv2.split(actual_frame)\n",
    "        actual_gray = cv2.cvtColor(actual_frame, cv2.COLOR_BGR2GRAY)\n",
    "        \n",
    "        mask = cv2.absdiff(old_gray, actual_gray)\n",
    "            \n",
    "        _, mask = cv2.threshold(mask, 50, 255, cv2.THRESH_BINARY)\n",
    "\n",
    "        cv2.imshow('mask', mask)\n",
    "        \n",
    "        frame_mod = actual_frame.copy()\n",
    "        \n",
    "        frame_mod[:,:, 0] = cv2.bitwise_and(actual_b, mask)\n",
    "        frame_mod[:,:, 1] = cv2.bitwise_and(actual_g, mask)\n",
    "        frame_mod[:,:, 2] = cv2.bitwise_and(actual_r, mask)\n",
    "            \n",
    "        cv2.imshow('foreground', frame_mod)\n",
    "\n",
    "        old_gray = actual_gray\n",
    "\n",
    "        if cv2.waitKey(1) & 0xFF == ord('q'):\n",
    "            break\n",
    "\n",
    "    except Exception as e:\n",
    "        print(e)\n",
    "        break\n",
    "        \n",
    "cap.release()\n",
    "cv2.destroyAllWindows()"
   ]
  },
  {
   "cell_type": "code",
   "execution_count": null,
   "metadata": {},
   "outputs": [],
   "source": []
  }
 ],
 "metadata": {
  "kernelspec": {
   "display_name": "Python 3",
   "language": "python",
   "name": "python3"
  },
  "language_info": {
   "codemirror_mode": {
    "name": "ipython",
    "version": 3
   },
   "file_extension": ".py",
   "mimetype": "text/x-python",
   "name": "python",
   "nbconvert_exporter": "python",
   "pygments_lexer": "ipython3",
   "version": "3.7.3"
  }
 },
 "nbformat": 4,
 "nbformat_minor": 2
}
